{
 "cells": [
  {
   "cell_type": "code",
   "execution_count": 1,
   "id": "7290b9ec-2c0b-449e-b686-669ba0675121",
   "metadata": {},
   "outputs": [],
   "source": [
    "from torchrecsys.external_datasets import Netflix\n",
    "from torchrecsys.datasets import Seq2SeqDataset\n",
    "from torchrecsys.models.sequential import Bert4Rec\n",
    "from pytorch_lightning import Trainer\n",
    "import pandas as pd\n",
    "import torch\n",
    "from torch.utils.data import DataLoader"
   ]
  },
  {
   "cell_type": "code",
   "execution_count": 2,
   "id": "ca1bb7e0-915e-4ba3-a138-afea5dd9ae88",
   "metadata": {},
   "outputs": [],
   "source": [
    "ratings, users, movies = Netflix().load()"
   ]
  },
  {
   "cell_type": "code",
   "execution_count": 3,
   "id": "030dc1b5-0ed0-4f77-9eb8-6af21f39acd7",
   "metadata": {},
   "outputs": [],
   "source": [
    "movies = movies[[\"movie_id\"]]"
   ]
  },
  {
   "cell_type": "code",
   "execution_count": 4,
   "id": "60e92ec6-15a6-416d-8fce-453752dc4705",
   "metadata": {},
   "outputs": [],
   "source": [
    "sorted_sequences = ratings.sort_values(by=['Date']).groupby('User')['Movie'].apply(list).to_frame()"
   ]
  },
  {
   "cell_type": "code",
   "execution_count": 5,
   "id": "221c7b65",
   "metadata": {},
   "outputs": [],
   "source": [
    "max_item_id = movies['movie_id'].max()\n",
    "dataset = Seq2SeqDataset(sorted_sequences, movies, sequence_id=\"Movie\", item_id=\"movie_id\", max_item_id=max_item_id)\n",
    "train = DataLoader(dataset, batch_size=512)"
   ]
  },
  {
   "cell_type": "code",
   "execution_count": 6,
   "id": "3cc642f1-bb15-405a-9c71-fa642c6cd26a",
   "metadata": {},
   "outputs": [],
   "source": [
    "model = Bert4Rec(dataset.data_schema)"
   ]
  },
  {
   "cell_type": "code",
   "execution_count": 7,
   "id": "5a22b667-a91e-42c9-97b0-e03b89599eb0",
   "metadata": {},
   "outputs": [
    {
     "name": "stderr",
     "output_type": "stream",
     "text": [
      "GPU available: False, used: False\n",
      "TPU available: False, using: 0 TPU cores\n",
      "IPU available: False, using: 0 IPUs\n",
      "/opt/homebrew/Caskroom/miniforge/base/envs/torchrecsys/lib/python3.9/site-packages/pytorch_lightning/trainer/configuration_validator.py:118: UserWarning: You defined a `validation_step` but have no `val_dataloader`. Skipping val loop.\n",
      "  rank_zero_warn(\"You defined a `validation_step` but have no `val_dataloader`. Skipping val loop.\")\n",
      "\n",
      "  | Name               | Type             | Params\n",
      "--------------------------------------------------------\n",
      "0 | item_features      | ModuleList       | 0     \n",
      "1 | embedding          | BERTEmbedding    | 9.1 M \n",
      "2 | transformer_blocks | ModuleList       | 6.3 M \n",
      "3 | out                | Linear           | 9.1 M \n",
      "4 | criterion          | CrossEntropyLoss | 0     \n",
      "--------------------------------------------------------\n",
      "24.5 M    Trainable params\n",
      "0         Non-trainable params\n",
      "24.5 M    Total params\n",
      "98.127    Total estimated model params size (MB)\n",
      "/opt/homebrew/Caskroom/miniforge/base/envs/torchrecsys/lib/python3.9/site-packages/pytorch_lightning/trainer/data_loading.py:110: UserWarning: The dataloader, train_dataloader, does not have many workers which may be a bottleneck. Consider increasing the value of the `num_workers` argument` (try 10 which is the number of cpus on this machine) in the `DataLoader` init to improve performance.\n",
      "  rank_zero_warn(\n"
     ]
    },
    {
     "data": {
      "application/vnd.jupyter.widget-view+json": {
       "model_id": "9dced234a060489d848ca074f676b5a8",
       "version_major": 2,
       "version_minor": 0
      },
      "text/plain": [
       "Training: 0it [00:00, ?it/s]"
      ]
     },
     "metadata": {},
     "output_type": "display_data"
    },
    {
     "name": "stderr",
     "output_type": "stream",
     "text": [
      "/opt/homebrew/Caskroom/miniforge/base/envs/torchrecsys/lib/python3.9/site-packages/pytorch_lightning/trainer/trainer.py:685: UserWarning: Detected KeyboardInterrupt, attempting graceful shutdown...\n",
      "  rank_zero_warn(\"Detected KeyboardInterrupt, attempting graceful shutdown...\")\n"
     ]
    }
   ],
   "source": [
    "trainer = Trainer(max_epochs=1)\n",
    "trainer.fit(model, train)"
   ]
  },
  {
   "cell_type": "code",
   "execution_count": null,
   "id": "55c3918b-fedb-48ad-89b9-7d12999bb872",
   "metadata": {},
   "outputs": [],
   "source": []
  }
 ],
 "metadata": {
  "kernelspec": {
   "display_name": "torchrecsys",
   "language": "python",
   "name": "torchrecsys"
  },
  "language_info": {
   "codemirror_mode": {
    "name": "ipython",
    "version": 3
   },
   "file_extension": ".py",
   "mimetype": "text/x-python",
   "name": "python",
   "nbconvert_exporter": "python",
   "pygments_lexer": "ipython3",
   "version": "3.9.13"
  },
  "vscode": {
   "interpreter": {
    "hash": "1dae2f5c307530b492e3e685d0649f6dfc47f05e5ca355981ce0c3f5410a247a"
   }
  }
 },
 "nbformat": 4,
 "nbformat_minor": 5
}
