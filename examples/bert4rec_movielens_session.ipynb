{
 "cells": [
  {
   "cell_type": "code",
   "execution_count": 1,
   "id": "7290b9ec-2c0b-449e-b686-669ba0675121",
   "metadata": {},
   "outputs": [],
   "source": [
    "from torchrecsys.external_datasets import Movielens_1M\n",
    "from torchrecsys.datasets import Seq2SeqDataset\n",
    "from torchrecsys.models.sequential import Bert4Rec\n",
    "from pytorch_lightning import Trainer\n",
    "import pandas as pd\n",
    "import torch\n",
    "from torch.utils.data import DataLoader"
   ]
  },
  {
   "cell_type": "code",
   "execution_count": 2,
   "id": "ca1bb7e0-915e-4ba3-a138-afea5dd9ae88",
   "metadata": {},
   "outputs": [],
   "source": [
    "ratings, users, movies = Movielens_1M().load()"
   ]
  },
  {
   "cell_type": "code",
   "execution_count": 3,
   "id": "4a6e10b2-5078-4da5-98e2-619c56e4957f",
   "metadata": {},
   "outputs": [],
   "source": [
    "#Preprocess users\n",
    "users['gender'], uniques = pd.factorize(users['gender'])\n",
    "users['occupation'], uniques = pd.factorize(users['occupation'])\n",
    "users['zip'], uniques = pd.factorize(users['zip'])\n",
    "##Set category dtype\n",
    "users['gender'] = users.gender.astype('category')\n",
    "users['occupation'] = users.occupation.astype('category')\n",
    "users['zip'] = users.zip.astype('category')\n",
    "\n",
    "#Preprocess movies, \n",
    "##categories to index\n",
    "movies['title'], uniques = pd.factorize(movies['title'])\n",
    "movies['genres'], uniques = pd.factorize(movies['genres'])\n",
    "##Set category dtype\n",
    "movies['title'] = movies.title.astype('category')\n",
    "movies['genres'] = movies.genres.astype('category')\n",
    "\n",
    "max_item_id = movies['movie_id'].max()"
   ]
  },
  {
   "cell_type": "code",
   "execution_count": 4,
   "id": "60e92ec6-15a6-416d-8fce-453752dc4705",
   "metadata": {},
   "outputs": [],
   "source": [
    "sorted_sequences = ratings.sort_values(by=['timestamp']).groupby('user_id')['movie_id'].apply(list).to_frame()"
   ]
  },
  {
   "cell_type": "code",
   "execution_count": 5,
   "id": "d48cc404-e364-4dbd-ab7d-11d572683896",
   "metadata": {},
   "outputs": [],
   "source": [
    "dataset = Seq2SeqDataset(sorted_sequences, movies, sequence_id=\"movie_id\", item_id=\"movie_id\", max_item_id=max_item_id)\n",
    "train = DataLoader(dataset, batch_size=512)"
   ]
  },
  {
   "cell_type": "code",
   "execution_count": 6,
   "id": "e504b70b-3483-4fcb-b6ff-4a2b9ab5c687",
   "metadata": {},
   "outputs": [],
   "source": [
    "model = Bert4Rec(dataset.data_schema)"
   ]
  },
  {
   "cell_type": "code",
   "execution_count": 7,
   "id": "ec9bab22-88cf-4629-b00c-fc04d248420e",
   "metadata": {},
   "outputs": [
    {
     "name": "stderr",
     "output_type": "stream",
     "text": [
      "/home/jiwidi/miniconda3/envs/cuda/lib/python3.8/site-packages/torch/cuda/__init__.py:82: UserWarning: CUDA initialization: Unexpected error from cudaGetDeviceCount(). Did you run some cuda functions before calling NumCudaDevices() that might have already set an error? Error 804: forward compatibility was attempted on non supported HW (Triggered internally at  /opt/conda/conda-bld/pytorch_1646755903507/work/c10/cuda/CUDAFunctions.cpp:112.)\n",
      "  return torch._C._cuda_getDeviceCount() > 0\n",
      "GPU available: False, used: False\n",
      "TPU available: False, using: 0 TPU cores\n",
      "IPU available: False, using: 0 IPUs\n",
      "/home/jiwidi/miniconda3/envs/cuda/lib/python3.8/site-packages/pytorch_lightning/trainer/configuration_validator.py:118: UserWarning: You defined a `validation_step` but have no `val_dataloader`. Skipping val loop.\n",
      "  rank_zero_warn(\"You defined a `validation_step` but have no `val_dataloader`. Skipping val loop.\")\n",
      "\n",
      "  | Name               | Type             | Params\n",
      "--------------------------------------------------------\n",
      "0 | item_features      | ModuleList       | 33.5 K\n",
      "1 | embedding          | BERTEmbedding    | 2.0 M \n",
      "2 | transformer_blocks | ModuleList       | 6.3 M \n",
      "3 | out                | Linear           | 2.0 M \n",
      "4 | criterion          | CrossEntropyLoss | 0     \n",
      "--------------------------------------------------------\n",
      "10.3 M    Trainable params\n",
      "0         Non-trainable params\n",
      "10.3 M    Total params\n",
      "41.353    Total estimated model params size (MB)\n",
      "/home/jiwidi/miniconda3/envs/cuda/lib/python3.8/site-packages/pytorch_lightning/trainer/data_loading.py:110: UserWarning: The dataloader, train_dataloader, does not have many workers which may be a bottleneck. Consider increasing the value of the `num_workers` argument` (try 12 which is the number of cpus on this machine) in the `DataLoader` init to improve performance.\n",
      "  rank_zero_warn(\n",
      "/home/jiwidi/miniconda3/envs/cuda/lib/python3.8/site-packages/pytorch_lightning/trainer/data_loading.py:393: UserWarning: The number of training samples (12) is smaller than the logging interval Trainer(log_every_n_steps=50). Set a lower value for log_every_n_steps if you want to see logs for the training epoch.\n",
      "  rank_zero_warn(\n"
     ]
    },
    {
     "data": {
      "application/vnd.jupyter.widget-view+json": {
       "model_id": "f3edb25fd0f94110b64037e822083076",
       "version_major": 2,
       "version_minor": 0
      },
      "text/plain": [
       "Training: 0it [00:00, ?it/s]"
      ]
     },
     "metadata": {},
     "output_type": "display_data"
    },
    {
     "name": "stderr",
     "output_type": "stream",
     "text": [
      "/mnt/kingston/github/torchrecsys/torchrecsys/datasets/datasets.py:230: UserWarning: Creating a tensor from a list of numpy.ndarrays is extremely slow. Please consider converting the list to a single numpy.ndarray with numpy.array() before converting to a tensor. (Triggered internally at  /opt/conda/conda-bld/pytorch_1646755903507/work/torch/csrc/utils/tensor_new.cpp:210.)\n",
      "  torch.LongTensor(features),\n"
     ]
    }
   ],
   "source": [
    "trainer = Trainer(max_epochs=1)\n",
    "trainer.fit(model, train)"
   ]
  },
  {
   "cell_type": "code",
   "execution_count": null,
   "id": "6331a0d8-567c-422c-968e-4920985b542a",
   "metadata": {},
   "outputs": [],
   "source": []
  },
  {
   "cell_type": "code",
   "execution_count": null,
   "id": "50e7ada0-fed2-4bbf-8eb2-e6af470d626f",
   "metadata": {},
   "outputs": [],
   "source": []
  }
 ],
 "metadata": {
  "kernelspec": {
   "display_name": "magnus",
   "language": "python",
   "name": "magnus"
  },
  "language_info": {
   "codemirror_mode": {
    "name": "ipython",
    "version": 3
   },
   "file_extension": ".py",
   "mimetype": "text/x-python",
   "name": "python",
   "nbconvert_exporter": "python",
   "pygments_lexer": "ipython3",
   "version": "3.9.13"
  }
 },
 "nbformat": 4,
 "nbformat_minor": 5
}
