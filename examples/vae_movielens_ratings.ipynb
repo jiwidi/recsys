{
 "cells": [
  {
   "cell_type": "code",
   "execution_count": 1,
   "id": "1db6e605-3f2f-4bce-afa4-8c9577f60dfc",
   "metadata": {},
   "outputs": [],
   "source": [
    "from torchrecsys.models.sparse import VAE\n",
    "from torchrecsys.external_datasets import Movielens_1M\n",
    "from torchrecsys.datasets import SparseInteractionsDataset\n",
    "from pytorch_lightning import Trainer\n",
    "from torch.utils.data import DataLoader"
   ]
  },
  {
   "cell_type": "code",
   "execution_count": 2,
   "id": "544390a2-abbf-40ce-bc07-08564f69001d",
   "metadata": {},
   "outputs": [],
   "source": [
    "data = Movielens_1M()\n",
    "ratings, users, movies = data.load()"
   ]
  },
  {
   "cell_type": "code",
   "execution_count": 3,
   "id": "8c99e717-7564-457a-8403-5e76815ecd8e",
   "metadata": {},
   "outputs": [],
   "source": [
    "dataset = SparseInteractionsDataset(ratings, users, movies, item_id=\"movie_id\", interaction_id=\"rating\")\n",
    "train = DataLoader(dataset, batch_size=8)"
   ]
  },
  {
   "cell_type": "code",
   "execution_count": 4,
   "id": "4d811ffb-6a99-49d1-82f3-c5d0201e9edf",
   "metadata": {},
   "outputs": [],
   "source": [
    "model = VAE(dataset.data_schema)"
   ]
  },
  {
   "cell_type": "code",
   "execution_count": 5,
   "id": "96927ff0-3b61-456a-9581-856482885d92",
   "metadata": {},
   "outputs": [],
   "source": [
    "for u in train:\n",
    "    break"
   ]
  },
  {
   "cell_type": "code",
   "execution_count": 6,
   "id": "29d49e8b-4881-432f-8d57-cab5f8028329",
   "metadata": {},
   "outputs": [
    {
     "data": {
      "text/plain": [
       "(tensor([[-0.6795,  2.3326, -0.8222,  ...,  0.0974,  0.9810, -0.4816],\n",
       "         [-0.0413,  0.0766, -0.3346,  ..., -1.4408, -0.3782, -0.1240],\n",
       "         [-0.8053, -0.4332, -0.0282,  ..., -1.2348, -0.7060, -1.4370],\n",
       "         ...,\n",
       "         [-0.4997, -0.7961, -0.6814,  ..., -0.3969, -0.4046,  1.7591],\n",
       "         [-0.0581,  0.6380, -0.0205,  ...,  0.3736, -0.3646, -0.4460],\n",
       "         [-1.4813, -0.7883, -2.1416,  ...,  0.2384,  0.1139, -0.7268]],\n",
       "        grad_fn=<AddmmBackward0>),\n",
       " tensor([[ 5.2922e-02,  1.0156e-03,  8.8490e-03,  ..., -2.3888e-02,\n",
       "           3.5734e-02, -5.3979e-02],\n",
       "         [ 2.3022e-02, -5.3802e-02, -1.0592e-02,  ..., -8.1536e-02,\n",
       "          -6.3644e-02, -6.5151e-02],\n",
       "         [ 1.6577e-01,  2.4734e-02,  3.4860e-02,  ...,  8.2155e-03,\n",
       "           3.8218e-02,  7.7673e-02],\n",
       "         ...,\n",
       "         [ 1.0586e-01, -1.1682e-04, -8.1012e-02,  ..., -3.7948e-02,\n",
       "          -4.5396e-02, -6.1506e-02],\n",
       "         [-1.0895e-02,  2.9325e-03,  3.9494e-02,  ..., -9.3595e-02,\n",
       "          -9.4349e-02, -3.9606e-02],\n",
       "         [-4.6778e-02,  1.4101e-02,  3.3320e-02,  ..., -9.9648e-02,\n",
       "          -5.1598e-02,  3.5018e-02]], grad_fn=<SliceBackward0>),\n",
       " tensor([[ 0.0971,  0.0761, -0.1103,  ...,  0.0737, -0.0147, -0.0110],\n",
       "         [ 0.0611,  0.1095,  0.0545,  ...,  0.0175,  0.0222, -0.0041],\n",
       "         [ 0.0185, -0.0330, -0.1021,  ...,  0.0495, -0.0344, -0.0252],\n",
       "         ...,\n",
       "         [ 0.0140,  0.0488,  0.1057,  ..., -0.0270,  0.0427, -0.0077],\n",
       "         [-0.0473, -0.0398, -0.1072,  ...,  0.0671, -0.0409, -0.0577],\n",
       "         [ 0.1033,  0.0122, -0.0029,  ..., -0.0203,  0.0581, -0.1441]],\n",
       "        grad_fn=<SliceBackward0>))"
      ]
     },
     "execution_count": 6,
     "metadata": {},
     "output_type": "execute_result"
    }
   ],
   "source": [
    "model(u)"
   ]
  },
  {
   "cell_type": "code",
   "execution_count": null,
   "id": "4749f88c-2c10-45bc-b5d6-51f8715e2430",
   "metadata": {},
   "outputs": [
    {
     "name": "stderr",
     "output_type": "stream",
     "text": [
      "GPU available: False, used: False\n",
      "TPU available: False, using: 0 TPU cores\n",
      "IPU available: False, using: 0 IPUs\n",
      "\n",
      "  | Name          | Type       | Params\n",
      "---------------------------------------------\n",
      "0 | input_dropout | Dropout    | 0     \n",
      "1 | encoder       | ModuleList | 3.0 M \n",
      "2 | decoder       | ModuleList | 2.9 M \n",
      "---------------------------------------------\n",
      "5.8 M     Trainable params\n",
      "0         Non-trainable params\n",
      "5.8 M     Total params\n",
      "23.321    Total estimated model params size (MB)\n"
     ]
    },
    {
     "data": {
      "application/vnd.jupyter.widget-view+json": {
       "model_id": "802e855011e84d4da5d1adf849ca74b0",
       "version_major": 2,
       "version_minor": 0
      },
      "text/plain": [
       "Training: 0it [00:00, ?it/s]"
      ]
     },
     "metadata": {},
     "output_type": "display_data"
    }
   ],
   "source": [
    "trainer = Trainer(max_epochs=100)\n",
    "trainer.fit(model, train)"
   ]
  },
  {
   "cell_type": "code",
   "execution_count": null,
   "id": "3fb6b73a-2cc1-4100-ba1e-3c59cfae085d",
   "metadata": {},
   "outputs": [],
   "source": []
  }
 ],
 "metadata": {
  "kernelspec": {
   "display_name": "Python 3 (ipykernel)",
   "language": "python",
   "name": "python3"
  },
  "language_info": {
   "codemirror_mode": {
    "name": "ipython",
    "version": 3
   },
   "file_extension": ".py",
   "mimetype": "text/x-python",
   "name": "python",
   "nbconvert_exporter": "python",
   "pygments_lexer": "ipython3",
   "version": "3.8.5"
  }
 },
 "nbformat": 4,
 "nbformat_minor": 5
}
