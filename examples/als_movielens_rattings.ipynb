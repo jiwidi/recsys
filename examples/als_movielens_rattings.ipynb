{
 "cells": [
  {
   "cell_type": "code",
   "execution_count": 1,
   "id": "3b208d48-2e13-4f46-82ac-36f267819697",
   "metadata": {},
   "outputs": [],
   "source": [
    "from torchrecsys.models.scoring import ALS\n",
    "from torchrecsys.external_datasets import Movielens_1M\n",
    "from torchrecsys.datasets import InteractionsDataset\n",
    "from pytorch_lightning import Trainer\n",
    "import pandas as pd\n",
    "import torch\n",
    "import numpy as np\n",
    "from torch.utils.data import DataLoader"
   ]
  },
  {
   "cell_type": "code",
   "execution_count": 2,
   "id": "f9488f91-7039-4554-bdb2-509a4e11b3d2",
   "metadata": {},
   "outputs": [],
   "source": [
    "data = Movielens_1M()\n",
    "ratings, users, movies = data.load()"
   ]
  },
  {
   "cell_type": "code",
   "execution_count": 3,
   "id": "b43ccc81-2db4-4e3c-8924-4d27bccaea4c",
   "metadata": {},
   "outputs": [],
   "source": [
    "#Preprocess users\n",
    "users['gender'], uniques = pd.factorize(users['gender'])\n",
    "users['occupation'], uniques = pd.factorize(users['occupation'])\n",
    "users['zip'], uniques = pd.factorize(users['zip'])\n",
    "##Set category dtype\n",
    "users['gender'] = users.gender.astype('category')\n",
    "users['occupation'] = users.occupation.astype('category')\n",
    "users['zip'] = users.zip.astype('category')\n",
    "\n",
    "#Preprocess movies, \n",
    "##categories to index\n",
    "movies['title'], uniques = pd.factorize(movies['title'])\n",
    "movies['genres'], uniques = pd.factorize(movies['genres'])\n",
    "##Set category dtype\n",
    "movies['title'] = movies.title.astype('category')\n",
    "movies['genres'] = movies.genres.astype('category')"
   ]
  },
  {
   "cell_type": "code",
   "execution_count": 4,
   "id": "4bf95e43-1404-4fa7-bc0b-2e23a4c77eb2",
   "metadata": {},
   "outputs": [],
   "source": [
    "dataset = InteractionsDataset(ratings, users, movies, item_id=\"movie_id\", interaction_id=\"rating\")\n",
    "train = DataLoader(dataset, batch_size=512)"
   ]
  },
  {
   "cell_type": "code",
   "execution_count": 5,
   "id": "808e561f-5d4a-4506-a40d-2b42ca08d711",
   "metadata": {},
   "outputs": [],
   "source": [
    "model = ALS(dataset.data_schema)"
   ]
  },
  {
   "cell_type": "code",
   "execution_count": 6,
   "id": "9c726aad-81a8-47ec-bfa5-777cc8fa7236",
   "metadata": {},
   "outputs": [
    {
     "name": "stderr",
     "output_type": "stream",
     "text": [
      "/home/jiwidi/miniconda3/envs/cuda/lib/python3.8/site-packages/torch/cuda/__init__.py:82: UserWarning: CUDA initialization: Unexpected error from cudaGetDeviceCount(). Did you run some cuda functions before calling NumCudaDevices() that might have already set an error? Error 804: forward compatibility was attempted on non supported HW (Triggered internally at  /opt/conda/conda-bld/pytorch_1646755903507/work/c10/cuda/CUDAFunctions.cpp:112.)\n",
      "  return torch._C._cuda_getDeviceCount() > 0\n",
      "GPU available: False, used: False\n",
      "TPU available: False, using: 0 TPU cores\n",
      "IPU available: False, using: 0 IPUs\n",
      "/home/jiwidi/miniconda3/envs/cuda/lib/python3.8/site-packages/pytorch_lightning/trainer/configuration_validator.py:118: UserWarning: You defined a `validation_step` but have no `val_dataloader`. Skipping val loop.\n",
      "  rank_zero_warn(\"You defined a `validation_step` but have no `val_dataloader`. Skipping val loop.\")\n",
      "\n",
      "  | Name           | Type       | Params\n",
      "----------------------------------------------\n",
      "0 | user_features  | ModuleList | 27.7 K\n",
      "1 | item_features  | ModuleList | 33.5 K\n",
      "2 | user_embedding | Embedding  | 386 K \n",
      "3 | item_embedding | Embedding  | 288 K \n",
      "4 | user_biases    | Embedding  | 6.0 K \n",
      "5 | item_biases    | Embedding  | 4.0 K \n",
      "6 | criterion      | MSELoss    | 0     \n",
      "----------------------------------------------\n",
      "746 K     Trainable params\n",
      "0         Non-trainable params\n",
      "746 K     Total params\n",
      "2.986     Total estimated model params size (MB)\n",
      "/home/jiwidi/miniconda3/envs/cuda/lib/python3.8/site-packages/pytorch_lightning/trainer/data_loading.py:110: UserWarning: The dataloader, train_dataloader, does not have many workers which may be a bottleneck. Consider increasing the value of the `num_workers` argument` (try 12 which is the number of cpus on this machine) in the `DataLoader` init to improve performance.\n",
      "  rank_zero_warn(\n"
     ]
    },
    {
     "data": {
      "application/vnd.jupyter.widget-view+json": {
       "model_id": "f61c2415e02749cd912bc6ed6027c6e1",
       "version_major": 2,
       "version_minor": 0
      },
      "text/plain": [
       "Training: 0it [00:00, ?it/s]"
      ]
     },
     "metadata": {},
     "output_type": "display_data"
    }
   ],
   "source": [
    "trainer = Trainer(max_epochs=1)\n",
    "trainer.fit(model, train)"
   ]
  },
  {
   "cell_type": "markdown",
   "id": "95c4d7fc-fcea-4949-81ca-8b3ecf70619c",
   "metadata": {},
   "source": [
    "## Lets rank some movies for a given user."
   ]
  },
  {
   "cell_type": "markdown",
   "id": "80ee7a07-ad7a-4ae8-84ed-b9eb8feacea9",
   "metadata": {},
   "source": [
    "We are now going to rank all movies for all users and keep the top 100 rated movies for each user as recommendations."
   ]
  },
  {
   "cell_type": "code",
   "execution_count": 9,
   "id": "33838060-2269-4c9c-874b-4f10385ef31e",
   "metadata": {},
   "outputs": [
    {
     "data": {
      "application/vnd.jupyter.widget-view+json": {
       "model_id": "d5e6571dac954343a0eff32f98864a65",
       "version_major": 2,
       "version_minor": 0
      },
      "text/plain": [
       "  0%|          | 0/6040 [00:00<?, ?it/s]"
      ]
     },
     "metadata": {},
     "output_type": "display_data"
    }
   ],
   "source": [
    "from tqdm.notebook import tqdm\n",
    "\n",
    "user_id=1\n",
    "all_user_ids = np.array(list(dataset.user_features.keys()))\n",
    "all_item_ids = np.array(list(dataset.item_features.keys()))\n",
    "\n",
    "results = {} #User key, top100recos value\n",
    "\n",
    "context = torch.tensor([[] for item_id in all_item_ids])\n",
    "#We score all candidates\n",
    "item_features = torch.tensor(np.array([dataset.item_features[item_id] for item_id in all_item_ids]))\n",
    "for user_id in tqdm(all_user_ids):\n",
    "    #Prepare the data for passing it into the model\n",
    "    pairs = torch.tensor([[user_id, item_id] for item_id in all_item_ids])\n",
    "    user_features = torch.tensor(np.array([dataset.user_features[user_id] for item_id in all_item_ids]))\n",
    "    \n",
    "    r = model(pairs, context, user_features, item_features).detach().numpy()\n",
    "    ordered_index = np.argsort(r)[::-1] ##reverse into descending order\n",
    "    results[user_id] = all_item_ids[ordered_index[:100]]"
   ]
  },
  {
   "cell_type": "code",
   "execution_count": null,
   "id": "0e2aab9c-dea8-487b-9ca5-095415e049f1",
   "metadata": {},
   "outputs": [],
   "source": []
  }
 ],
 "metadata": {
  "kernelspec": {
   "display_name": "Python 3",
   "language": "python",
   "name": "python3"
  },
  "language_info": {
   "codemirror_mode": {
    "name": "ipython",
    "version": 3
   },
   "file_extension": ".py",
   "mimetype": "text/x-python",
   "name": "python",
   "nbconvert_exporter": "python",
   "pygments_lexer": "ipython3",
   "version": "3.8.12"
  }
 },
 "nbformat": 4,
 "nbformat_minor": 5
}
