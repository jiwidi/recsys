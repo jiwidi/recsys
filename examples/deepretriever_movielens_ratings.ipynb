{
 "cells": [
  {
   "cell_type": "code",
   "execution_count": 1,
   "id": "639958d0-d78d-4aa4-8604-309c85a5c4f5",
   "metadata": {},
   "outputs": [],
   "source": [
    "from recsys.models.retrieval import DeepRetriever\n",
    "from recsys.external_datasets import Movielens_1M\n",
    "from recsys.datasets import InteractionsDataset\n",
    "from pytorch_lightning import Trainer\n",
    "from recsys.models.scoring import NCF\n",
    "import pandas as pd\n",
    "import torch\n",
    "import numpy as np\n",
    "from recsys.layers import retrieve_nearest_neighbors"
   ]
  },
  {
   "cell_type": "markdown",
   "id": "1277c513-35fa-405b-90e6-f43d01c307ed",
   "metadata": {},
   "source": [
    "# Data processing"
   ]
  },
  {
   "cell_type": "code",
   "execution_count": 2,
   "id": "fb6a19ac-8381-470c-9ec5-eeac07ce6ca6",
   "metadata": {},
   "outputs": [],
   "source": [
    "data = Movielens_1M()\n",
    "ratings, users, movies = data.load()"
   ]
  },
  {
   "cell_type": "code",
   "execution_count": 3,
   "id": "5b21b8c9-2736-4698-8db1-32d18e383861",
   "metadata": {},
   "outputs": [],
   "source": [
    "#Preprocess users\n",
    "users['gender'], uniques = pd.factorize(users['gender'])\n",
    "users['occupation'], uniques = pd.factorize(users['occupation'])\n",
    "users['zip'], uniques = pd.factorize(users['zip'])\n",
    "##Set category dtype\n",
    "users['gender'] = users.gender.astype('category')\n",
    "users['occupation'] = users.occupation.astype('category')\n",
    "users['zip'] = users.zip.astype('category')\n",
    "\n",
    "#Preprocess movies, \n",
    "##categories to index\n",
    "movies['title'], uniques = pd.factorize(movies['title'])\n",
    "movies['genres'], uniques = pd.factorize(movies['genres'])\n",
    "##Set category dtype\n",
    "movies['title'] = movies.title.astype('category')\n",
    "movies['genres'] = movies.genres.astype('category')\n",
    "\n",
    "#Make all ratings an implicit interaction\n",
    "ratings[\"rating\"] = ratings[\"rating\"].apply(lambda x: 1 if x>=3 else 0)"
   ]
  },
  {
   "cell_type": "code",
   "execution_count": 4,
   "id": "097826dc-77d3-4f82-80ca-44169cc68d5f",
   "metadata": {},
   "outputs": [],
   "source": [
    "dataset = InteractionsDataset(ratings, users, movies, item_id=\"movie_id\", interaction_id=\"rating\", sample_negatives=3)"
   ]
  },
  {
   "cell_type": "markdown",
   "id": "7a840fcd-4cd5-40bf-9754-fb8425b60af6",
   "metadata": {},
   "source": [
    "# Retrieval Step"
   ]
  },
  {
   "cell_type": "code",
   "execution_count": 5,
   "id": "8a19d4ee-2eb1-4a6c-ae6f-2bf49fd1e8c3",
   "metadata": {},
   "outputs": [],
   "source": [
    "retriever = DeepRetriever(dataset.data_schema)"
   ]
  },
  {
   "cell_type": "code",
   "execution_count": 6,
   "id": "b466f913-d7b7-46ad-a6df-fb70e14c9c78",
   "metadata": {},
   "outputs": [
    {
     "name": "stderr",
     "output_type": "stream",
     "text": [
      "Epoch: 0/1, Loss: 0.49: 100%|█████████████████████| 1/1 [00:26<00:00, 26.30s/it]\n"
     ]
    }
   ],
   "source": [
    "retriever.fit(dataset=dataset, num_epochs=1)"
   ]
  },
  {
   "cell_type": "code",
   "execution_count": 7,
   "id": "bda361c1-2340-42e3-b38b-f48550b2fae5",
   "metadata": {},
   "outputs": [
    {
     "name": "stderr",
     "output_type": "stream",
     "text": [
      "/Users/jiwidi/projects/github/recsys/recsys/models/retrieval/deep_retriever.py:159: UserWarning: Creating a tensor from a list of numpy.ndarrays is extremely slow. Please consider converting the list to a single numpy.ndarray with numpy.array() before converting to a tensor. (Triggered internally at /Users/runner/work/pytorch/pytorch/pytorch/torch/csrc/utils/tensor_new.cpp:233.)\n",
      "  items_features = torch.tensor(items_features)\n"
     ]
    }
   ],
   "source": [
    "item_alias, item_representations = retriever.generate_item_representations(dataset)\n",
    "user_alias, user_representations = retriever.generate_user_representations(dataset)"
   ]
  },
  {
   "cell_type": "code",
   "execution_count": 8,
   "id": "0f2d4c30-2bd4-41d6-8fa0-a1b45ab75755",
   "metadata": {},
   "outputs": [
    {
     "data": {
      "text/plain": [
       "tensor([ 583, 3435, 2289,  914, 2248, 3364,  922,  904, 3403, 2405,  903, 3670,\n",
       "        1393,  587])"
      ]
     },
     "execution_count": 8,
     "metadata": {},
     "output_type": "execute_result"
    }
   ],
   "source": [
    "nearest_neighbors_idx = retrieve_nearest_neighbors(candidates=item_representations, query=user_representations[0]).tolist()\n",
    "retrieved_items = item_alias[nearest_neighbors_idx]\n",
    "retrieved_items"
   ]
  },
  {
   "cell_type": "markdown",
   "id": "6ce1d251-b986-45b4-b8f0-5f0416127cad",
   "metadata": {},
   "source": [
    "# Scoring step"
   ]
  },
  {
   "cell_type": "markdown",
   "id": "bf22c265-a984-4bab-8095-dfd5ce2d2b18",
   "metadata": {},
   "source": [
    "### Train"
   ]
  },
  {
   "cell_type": "code",
   "execution_count": 9,
   "id": "d6609620-ce0d-4b6c-a078-5731d88805bd",
   "metadata": {},
   "outputs": [],
   "source": [
    "scorer = NCF(dataset.data_schema)"
   ]
  },
  {
   "cell_type": "code",
   "execution_count": 10,
   "id": "3f5090fe-581e-4dba-8920-f0e80ade3e05",
   "metadata": {},
   "outputs": [
    {
     "name": "stderr",
     "output_type": "stream",
     "text": [
      "Epoch: 0/1, Loss: 0.44: 100%|█████████████████████| 1/1 [00:21<00:00, 21.08s/it]\n"
     ]
    }
   ],
   "source": [
    "scorer.fit(dataset=dataset, num_epochs=1)"
   ]
  },
  {
   "cell_type": "code",
   "execution_count": 14,
   "id": "df5c32e2-5756-4f04-8bf0-cf2cdd6b544f",
   "metadata": {},
   "outputs": [
    {
     "data": {
      "text/plain": [
       "tensor([[-2.5361],\n",
       "        [-0.6979],\n",
       "        [-0.1836],\n",
       "        [ 0.2111],\n",
       "        [ 0.0242],\n",
       "        [-0.9390],\n",
       "        [-0.7528],\n",
       "        [-0.2695],\n",
       "        [-3.0460],\n",
       "        [-0.2613]], grad_fn=<AddmmBackward0>)"
      ]
     },
     "execution_count": 14,
     "metadata": {},
     "output_type": "execute_result"
    }
   ],
   "source": [
    "users = user_alias[:10]\n",
    "items = retrieved_items[:10]\n",
    "\n",
    "users_features = dataset.get_user_features(users.tolist())\n",
    "items_features = dataset.get_item_features(items.tolist())\n",
    "\n",
    "pairs = torch.stack([users, items]).T\n",
    "\n",
    "scorer.score(pairs, users_features, items_features)"
   ]
  },
  {
   "cell_type": "markdown",
   "id": "bd4aa876-d62e-46bf-8916-9ea6ff8af09c",
   "metadata": {},
   "source": [
    "### Evaluate"
   ]
  },
  {
   "cell_type": "code",
   "execution_count": 17,
   "id": "1ec930ef-04d7-4a0d-868b-b25aa2c40845",
   "metadata": {},
   "outputs": [
    {
     "data": {
      "text/plain": [
       "tensor([[[-2.5361],\n",
       "         [-0.7800],\n",
       "         [-0.1710],\n",
       "         [-0.4011],\n",
       "         [-0.4500],\n",
       "         [-1.6668],\n",
       "         [-0.7591],\n",
       "         [-0.6417],\n",
       "         [-3.3509],\n",
       "         [-1.1106]],\n",
       "\n",
       "        [[-1.8759],\n",
       "         [-0.6979],\n",
       "         [ 0.4413],\n",
       "         [ 0.2015],\n",
       "         [ 0.5549],\n",
       "         [-1.1568],\n",
       "         [-0.5454],\n",
       "         [ 0.0826],\n",
       "         [-3.3898],\n",
       "         [-0.4027]],\n",
       "\n",
       "        [[-2.2840],\n",
       "         [-1.0458],\n",
       "         [-0.1836],\n",
       "         [-0.2404],\n",
       "         [ 0.0740],\n",
       "         [-1.5316],\n",
       "         [-0.7132],\n",
       "         [-0.8216],\n",
       "         [-3.5295],\n",
       "         [-0.6286]],\n",
       "\n",
       "        [[-1.9430],\n",
       "         [-0.3315],\n",
       "         [ 0.2041],\n",
       "         [ 0.2111],\n",
       "         [ 0.7172],\n",
       "         [-1.0178],\n",
       "         [-0.3352],\n",
       "         [-0.2772],\n",
       "         [-3.0965],\n",
       "         [-0.2929]],\n",
       "\n",
       "        [[-1.8561],\n",
       "         [-1.0895],\n",
       "         [-0.6017],\n",
       "         [-0.1620],\n",
       "         [ 0.0242],\n",
       "         [-1.2198],\n",
       "         [-0.7627],\n",
       "         [-0.6032],\n",
       "         [-3.1316],\n",
       "         [-0.6967]],\n",
       "\n",
       "        [[-2.1178],\n",
       "         [-0.4092],\n",
       "         [ 0.3376],\n",
       "         [ 0.4204],\n",
       "         [ 0.2773],\n",
       "         [-0.9390],\n",
       "         [-0.1406],\n",
       "         [-0.2864],\n",
       "         [-3.0779],\n",
       "         [-0.4889]],\n",
       "\n",
       "        [[-1.7854],\n",
       "         [-0.7585],\n",
       "         [ 0.2444],\n",
       "         [-0.2168],\n",
       "         [ 0.2051],\n",
       "         [-1.0919],\n",
       "         [-0.7528],\n",
       "         [ 0.1373],\n",
       "         [-3.2498],\n",
       "         [-0.1404]],\n",
       "\n",
       "        [[-1.8459],\n",
       "         [-0.9867],\n",
       "         [ 0.0921],\n",
       "         [ 0.1525],\n",
       "         [ 0.0495],\n",
       "         [-1.1170],\n",
       "         [-0.6391],\n",
       "         [-0.2695],\n",
       "         [-2.9797],\n",
       "         [-0.4130]],\n",
       "\n",
       "        [[-1.6097],\n",
       "         [-0.6085],\n",
       "         [-0.0751],\n",
       "         [-0.1396],\n",
       "         [ 0.4662],\n",
       "         [-1.0305],\n",
       "         [-0.5503],\n",
       "         [ 0.0144],\n",
       "         [-3.0460],\n",
       "         [-0.2474]],\n",
       "\n",
       "        [[-1.5894],\n",
       "         [-0.6942],\n",
       "         [ 0.2305],\n",
       "         [ 0.3601],\n",
       "         [ 0.1553],\n",
       "         [-1.0431],\n",
       "         [-0.0550],\n",
       "         [ 0.1807],\n",
       "         [-2.5708],\n",
       "         [-0.2613]]], grad_fn=<StackBackward0>)"
      ]
     },
     "execution_count": 17,
     "metadata": {},
     "output_type": "execute_result"
    }
   ],
   "source": [
    "scorer.batch_score(users, items, users_features, items_features)"
   ]
  },
  {
   "cell_type": "code",
   "execution_count": null,
   "id": "ad81ec4b-8adf-4370-8fe3-ad580dbe3a93",
   "metadata": {},
   "outputs": [],
   "source": []
  }
 ],
 "metadata": {
  "kernelspec": {
   "display_name": "torchrecsys",
   "language": "python",
   "name": "torchrecsys"
  },
  "language_info": {
   "codemirror_mode": {
    "name": "ipython",
    "version": 3
   },
   "file_extension": ".py",
   "mimetype": "text/x-python",
   "name": "python",
   "nbconvert_exporter": "python",
   "pygments_lexer": "ipython3",
   "version": "3.9.13"
  }
 },
 "nbformat": 4,
 "nbformat_minor": 5
}
