{
 "cells": [
  {
   "cell_type": "code",
   "execution_count": 1,
   "id": "639958d0-d78d-4aa4-8604-309c85a5c4f5",
   "metadata": {},
   "outputs": [],
   "source": [
    "from recsys.external_datasets import Movielens_1M\n",
    "from recsys.datasets import InteractionsDataset\n",
    "from pytorch_lightning import Trainer\n",
    "from recsys.models.scoring import NCF\n",
    "import pandas as pd\n",
    "import torch\n",
    "import numpy as np\n",
    "from recsys.layers import retrieve_nearest_neighbors"
   ]
  },
  {
   "cell_type": "markdown",
   "id": "1277c513-35fa-405b-90e6-f43d01c307ed",
   "metadata": {},
   "source": [
    "# Data processing"
   ]
  },
  {
   "cell_type": "code",
   "execution_count": 2,
   "id": "fb6a19ac-8381-470c-9ec5-eeac07ce6ca6",
   "metadata": {},
   "outputs": [],
   "source": [
    "data = Movielens_1M()\n",
    "ratings, users, movies = data.load()"
   ]
  },
  {
   "cell_type": "code",
   "execution_count": 3,
   "id": "5b21b8c9-2736-4698-8db1-32d18e383861",
   "metadata": {},
   "outputs": [],
   "source": [
    "#Preprocess users\n",
    "users['gender'], uniques = pd.factorize(users['gender'])\n",
    "users['occupation'], uniques = pd.factorize(users['occupation'])\n",
    "users['zip'], uniques = pd.factorize(users['zip'])\n",
    "##Set category dtype\n",
    "users['gender'] = users.gender.astype('category')\n",
    "users['occupation'] = users.occupation.astype('category')\n",
    "users['zip'] = users.zip.astype('category')\n",
    "\n",
    "#Preprocess movies, \n",
    "##categories to index\n",
    "movies['title'], uniques = pd.factorize(movies['title'])\n",
    "movies['genres'], uniques = pd.factorize(movies['genres'])\n",
    "##Set category dtype\n",
    "movies['title'] = movies.title.astype('category')\n",
    "movies['genres'] = movies.genres.astype('category')\n",
    "\n",
    "#Make all ratings an implicit interaction\n",
    "ratings[\"rating\"] = ratings[\"rating\"].apply(lambda x: 1 if x>=3 else 0)"
   ]
  },
  {
   "cell_type": "code",
   "execution_count": 4,
   "id": "097826dc-77d3-4f82-80ca-44169cc68d5f",
   "metadata": {},
   "outputs": [],
   "source": [
    "dataset = InteractionsDataset(ratings, users, movies, item_id=\"movie_id\", interaction_id=\"rating\", sample_negatives=3)"
   ]
  },
  {
   "cell_type": "markdown",
   "id": "6ce1d251-b986-45b4-b8f0-5f0416127cad",
   "metadata": {},
   "source": [
    "# Scoring step"
   ]
  },
  {
   "cell_type": "markdown",
   "id": "bf22c265-a984-4bab-8095-dfd5ce2d2b18",
   "metadata": {},
   "source": [
    "### Train"
   ]
  },
  {
   "cell_type": "code",
   "execution_count": 9,
   "id": "d6609620-ce0d-4b6c-a078-5731d88805bd",
   "metadata": {},
   "outputs": [],
   "source": [
    "scorer = NCF(dataset.data_schema)"
   ]
  },
  {
   "cell_type": "code",
   "execution_count": 10,
   "id": "3f5090fe-581e-4dba-8920-f0e80ade3e05",
   "metadata": {},
   "outputs": [
    {
     "name": "stderr",
     "output_type": "stream",
     "text": [
      "Epoch: 0/1, Loss: 0.41: 100%|█████████████████████| 1/1 [00:22<00:00, 22.02s/it]\n"
     ]
    }
   ],
   "source": [
    "scorer.fit(dataset=dataset, num_epochs=1)"
   ]
  },
  {
   "cell_type": "code",
   "execution_count": 11,
   "id": "df5c32e2-5756-4f04-8bf0-cf2cdd6b544f",
   "metadata": {},
   "outputs": [
    {
     "data": {
      "text/plain": [
       "tensor([-0.4980,  0.5163, -0.4679,  0.0602, -4.1169, -0.9351,  0.3336, -0.0893,\n",
       "        -0.1404,  0.6188], grad_fn=<SqueezeBackward0>)"
      ]
     },
     "execution_count": 11,
     "metadata": {},
     "output_type": "execute_result"
    }
   ],
   "source": [
    "users = user_alias[:10]\n",
    "items = retrieved_items[:10]\n",
    "\n",
    "users_features = dataset.get_user_features(users.tolist())\n",
    "items_features = dataset.get_item_features(items.tolist())\n",
    "\n",
    "pairs = torch.stack([users, items]).T\n",
    "\n",
    "scorer.score(pairs, users_features, items_features)"
   ]
  },
  {
   "cell_type": "markdown",
   "id": "bd4aa876-d62e-46bf-8916-9ea6ff8af09c",
   "metadata": {},
   "source": [
    "### Evaluate"
   ]
  },
  {
   "cell_type": "code",
   "execution_count": 16,
   "id": "1ec930ef-04d7-4a0d-868b-b25aa2c40845",
   "metadata": {},
   "outputs": [],
   "source": [
    "r = scorer.batch_score(users, items, users_features, items_features)"
   ]
  },
  {
   "cell_type": "markdown",
   "id": "f2fc1f9d-fe3c-4121-ba3a-8f43156cdb05",
   "metadata": {},
   "source": [
    "### Metrics"
   ]
  },
  {
   "cell_type": "code",
   "execution_count": null,
   "id": "04544894-88c1-40dc-a53e-1c0fdaed640f",
   "metadata": {},
   "outputs": [],
   "source": []
  }
 ],
 "metadata": {
  "kernelspec": {
   "display_name": "torchrecsys",
   "language": "python",
   "name": "torchrecsys"
  },
  "language_info": {
   "codemirror_mode": {
    "name": "ipython",
    "version": 3
   },
   "file_extension": ".py",
   "mimetype": "text/x-python",
   "name": "python",
   "nbconvert_exporter": "python",
   "pygments_lexer": "ipython3",
   "version": "3.9.13"
  }
 },
 "nbformat": 4,
 "nbformat_minor": 5
}
