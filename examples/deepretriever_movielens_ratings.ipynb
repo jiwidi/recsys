{
 "cells": [
  {
   "cell_type": "code",
   "execution_count": 1,
   "id": "639958d0-d78d-4aa4-8604-309c85a5c4f5",
   "metadata": {},
   "outputs": [],
   "source": [
    "from torchrecsys.models.retrieval import DeepRetriever\n",
    "from torchrecsys.external_datasets import Movielens_1M\n",
    "from torchrecsys.datasets import InteractionsDataset\n",
    "from pytorch_lightning import Trainer\n",
    "from torchrecsys.models.scoring import NCF\n",
    "import pandas as pd\n",
    "import torch\n",
    "import numpy as np\n",
    "from torchrecsys.layers import retrieve_nearest_neighbors"
   ]
  },
  {
   "cell_type": "code",
   "execution_count": 2,
   "id": "fb6a19ac-8381-470c-9ec5-eeac07ce6ca6",
   "metadata": {},
   "outputs": [],
   "source": [
    "data = Movielens_1M()\n",
    "ratings, users, movies = data.load()"
   ]
  },
  {
   "cell_type": "markdown",
   "id": "1277c513-35fa-405b-90e6-f43d01c307ed",
   "metadata": {},
   "source": [
    "# Data processing"
   ]
  },
  {
   "cell_type": "code",
   "execution_count": 3,
   "id": "5b21b8c9-2736-4698-8db1-32d18e383861",
   "metadata": {},
   "outputs": [],
   "source": [
    "#Preprocess users\n",
    "users['gender'], uniques = pd.factorize(users['gender'])\n",
    "users['occupation'], uniques = pd.factorize(users['occupation'])\n",
    "users['zip'], uniques = pd.factorize(users['zip'])\n",
    "##Set category dtype\n",
    "users['gender'] = users.gender.astype('category')\n",
    "users['occupation'] = users.occupation.astype('category')\n",
    "users['zip'] = users.zip.astype('category')\n",
    "\n",
    "#Preprocess movies, \n",
    "##categories to index\n",
    "movies['title'], uniques = pd.factorize(movies['title'])\n",
    "movies['genres'], uniques = pd.factorize(movies['genres'])\n",
    "##Set category dtype\n",
    "movies['title'] = movies.title.astype('category')\n",
    "movies['genres'] = movies.genres.astype('category')\n",
    "\n",
    "#Make all ratings an implicit interaction\n",
    "ratings[\"rating\"] = ratings[\"rating\"].apply(lambda x: 1 if x>=3 else 0)"
   ]
  },
  {
   "cell_type": "code",
   "execution_count": 4,
   "id": "097826dc-77d3-4f82-80ca-44169cc68d5f",
   "metadata": {},
   "outputs": [],
   "source": [
    "dataset = InteractionsDataset(ratings, users, movies, item_id=\"movie_id\", interaction_id=\"rating\", sample_negatives=3)"
   ]
  },
  {
   "cell_type": "markdown",
   "id": "7a840fcd-4cd5-40bf-9754-fb8425b60af6",
   "metadata": {},
   "source": [
    "# Retrieval Step"
   ]
  },
  {
   "cell_type": "code",
   "execution_count": 5,
   "id": "8a19d4ee-2eb1-4a6c-ae6f-2bf49fd1e8c3",
   "metadata": {},
   "outputs": [],
   "source": [
    "retriever = DeepRetriever(dataset.data_schema)"
   ]
  },
  {
   "cell_type": "code",
   "execution_count": 6,
   "id": "b466f913-d7b7-46ad-a6df-fb70e14c9c78",
   "metadata": {},
   "outputs": [
    {
     "name": "stderr",
     "output_type": "stream",
     "text": [
      "Epoch: 0/1, Loss: 24.83: 100%|████████████████████████████████████████████████████████████████████████████████████████████████████████████████████████████████████████████████████████████████████████████████████████████| 1/1 [00:34<00:00, 34.19s/it]\n"
     ]
    }
   ],
   "source": [
    "retriever.fit(dataset=dataset, num_epochs=1)"
   ]
  },
  {
   "cell_type": "code",
   "execution_count": 7,
   "id": "bda361c1-2340-42e3-b38b-f48550b2fae5",
   "metadata": {},
   "outputs": [
    {
     "name": "stderr",
     "output_type": "stream",
     "text": [
      "/Users/jiwidi/projects/github/torchrecsys/torchrecsys/models/retrieval/deep_retriever.py:159: UserWarning: Creating a tensor from a list of numpy.ndarrays is extremely slow. Please consider converting the list to a single numpy.ndarray with numpy.array() before converting to a tensor. (Triggered internally at /Users/runner/work/pytorch/pytorch/pytorch/torch/csrc/utils/tensor_new.cpp:233.)\n",
      "  items_features = torch.tensor(items_features)\n"
     ]
    }
   ],
   "source": [
    "item_alias, item_representations = retriever.generate_item_representations(dataset)\n",
    "user_alias, user_representations = retriever.generate_user_representations(dataset)"
   ]
  },
  {
   "cell_type": "code",
   "execution_count": 8,
   "id": "0f2d4c30-2bd4-41d6-8fa0-a1b45ab75755",
   "metadata": {},
   "outputs": [
    {
     "data": {
      "text/plain": [
       "tensor([  46, 3244, 3650, 1602, 3273, 3035, 3612, 1432, 1289, 1496,  376, 2983,\n",
       "         805, 3714])"
      ]
     },
     "execution_count": 8,
     "metadata": {},
     "output_type": "execute_result"
    }
   ],
   "source": [
    "nearest_neighbors_idx = retrieve_nearest_neighbors(candidates=item_representations, query=user_representations[0]).tolist()\n",
    "retrieved_items = item_alias[nearest_neighbors_idx]\n",
    "retrieved_items"
   ]
  },
  {
   "cell_type": "markdown",
   "id": "6ce1d251-b986-45b4-b8f0-5f0416127cad",
   "metadata": {},
   "source": [
    "# Scoring step"
   ]
  },
  {
   "cell_type": "code",
   "execution_count": 9,
   "id": "d6609620-ce0d-4b6c-a078-5731d88805bd",
   "metadata": {},
   "outputs": [],
   "source": [
    "scorer = NCF(dataset.data_schema)"
   ]
  },
  {
   "cell_type": "code",
   "execution_count": 10,
   "id": "3f5090fe-581e-4dba-8920-f0e80ade3e05",
   "metadata": {},
   "outputs": [
    {
     "name": "stderr",
     "output_type": "stream",
     "text": [
      "Epoch: 0/1, Loss: 0.38: 100%|█████████████████████████████████████████████████████████████████████████████████████████████████████████████████████████████████████████████████████████████████████████████████████████████| 1/1 [00:29<00:00, 29.72s/it]\n"
     ]
    }
   ],
   "source": [
    "scorer.fit(dataset=dataset, num_epochs=1)"
   ]
  },
  {
   "cell_type": "code",
   "execution_count": 11,
   "id": "df5c32e2-5756-4f04-8bf0-cf2cdd6b544f",
   "metadata": {},
   "outputs": [
    {
     "data": {
      "text/plain": [
       "tensor([[-1.0200],\n",
       "        [-0.7300],\n",
       "        [-4.9884],\n",
       "        [-3.0428],\n",
       "        [-0.4006],\n",
       "        [ 0.0354],\n",
       "        [-2.2178],\n",
       "        [-1.5980],\n",
       "        [-0.5185],\n",
       "        [-2.1092]], grad_fn=<AddmmBackward0>)"
      ]
     },
     "execution_count": 11,
     "metadata": {},
     "output_type": "execute_result"
    }
   ],
   "source": [
    "user = user_alias[:10].tolist()\n",
    "items = retrieved_items[:10].tolist()\n",
    "\n",
    "user_features = dataset.get_user_features(user)\n",
    "item_features = dataset.get_item_features(items)\n",
    "\n",
    "pairs = torch.tensor([user, items]).T\n",
    "user_features = torch.tensor(user_features)\n",
    "items_features = torch.tensor(item_features)\n",
    "\n",
    "scorer.predict(pairs, user_features, items_features)"
   ]
  },
  {
   "cell_type": "code",
   "execution_count": null,
   "id": "e345406b-f096-4f49-a8ff-fc7a475dcb00",
   "metadata": {},
   "outputs": [],
   "source": []
  }
 ],
 "metadata": {
  "kernelspec": {
   "display_name": "torchrecsys",
   "language": "python",
   "name": "torchrecsys"
  },
  "language_info": {
   "codemirror_mode": {
    "name": "ipython",
    "version": 3
   },
   "file_extension": ".py",
   "mimetype": "text/x-python",
   "name": "python",
   "nbconvert_exporter": "python",
   "pygments_lexer": "ipython3",
   "version": "3.9.13"
  }
 },
 "nbformat": 4,
 "nbformat_minor": 5
}
