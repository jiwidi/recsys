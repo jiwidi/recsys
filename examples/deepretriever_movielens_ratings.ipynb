{
 "cells": [
  {
   "cell_type": "code",
   "execution_count": 1,
   "id": "3c31b678-b999-4093-90d9-92cbd6061cba",
   "metadata": {},
   "outputs": [],
   "source": [
    "from recsys.models.retrieval import DeepRetriever\n",
    "from recsys.external_datasets import Movielens_1M\n",
    "from recsys.datasets import InteractionsDataset\n",
    "from pytorch_lightning import Trainer\n",
    "from recsys.models.scoring import NCF\n",
    "import pandas as pd\n",
    "import torch\n",
    "import numpy as np\n",
    "from recsys.layers import retrieve_nearest_neighbors"
   ]
  },
  {
   "cell_type": "code",
   "execution_count": 2,
   "id": "fb6a19ac-8381-470c-9ec5-eeac07ce6ca6",
   "metadata": {},
   "outputs": [],
   "source": [
    "data = Movielens_1M()\n",
    "ratings, users, movies = data.load()"
   ]
  },
  {
   "cell_type": "markdown",
   "id": "1277c513-35fa-405b-90e6-f43d01c307ed",
   "metadata": {},
   "source": [
    "# Data processing"
   ]
  },
  {
   "cell_type": "code",
   "execution_count": 3,
   "id": "5b21b8c9-2736-4698-8db1-32d18e383861",
   "metadata": {},
   "outputs": [],
   "source": [
    "#Preprocess users\n",
    "users['gender'], uniques = pd.factorize(users['gender'])\n",
    "users['occupation'], uniques = pd.factorize(users['occupation'])\n",
    "users['zip'], uniques = pd.factorize(users['zip'])\n",
    "##Set category dtype\n",
    "users['gender'] = users.gender.astype('category')\n",
    "users['occupation'] = users.occupation.astype('category')\n",
    "users['zip'] = users.zip.astype('category')\n",
    "\n",
    "#Preprocess movies, \n",
    "##categories to index\n",
    "movies['title'], uniques = pd.factorize(movies['title'])\n",
    "movies['genres'], uniques = pd.factorize(movies['genres'])\n",
    "##Set category dtype\n",
    "movies['title'] = movies.title.astype('category')\n",
    "movies['genres'] = movies.genres.astype('category')\n",
    "\n",
    "#Make all ratings an implicit interaction\n",
    "ratings[\"rating\"] = ratings[\"rating\"].apply(lambda x: 1 if x>=3 else 0)"
   ]
  },
  {
   "cell_type": "code",
   "execution_count": 4,
   "id": "097826dc-77d3-4f82-80ca-44169cc68d5f",
   "metadata": {},
   "outputs": [],
   "source": [
    "dataset = InteractionsDataset(ratings, users, movies, item_id=\"movie_id\", interaction_id=\"rating\", sample_negatives=3)"
   ]
  },
  {
   "cell_type": "markdown",
   "id": "7a840fcd-4cd5-40bf-9754-fb8425b60af6",
   "metadata": {},
   "source": [
    "# Retrieval Step"
   ]
  },
  {
   "cell_type": "code",
   "execution_count": 5,
   "id": "8a19d4ee-2eb1-4a6c-ae6f-2bf49fd1e8c3",
   "metadata": {},
   "outputs": [],
   "source": [
    "retriever = DeepRetriever(dataset.data_schema)"
   ]
  },
  {
   "cell_type": "code",
   "execution_count": 6,
   "id": "b466f913-d7b7-46ad-a6df-fb70e14c9c78",
   "metadata": {},
   "outputs": [
    {
     "name": "stderr",
     "output_type": "stream",
     "text": [
      "Epoch: 0/1, Loss: 0.58: 100%|█████████████████████| 1/1 [00:15<00:00, 15.51s/it]\n"
     ]
    }
   ],
   "source": [
    "retriever.fit(dataset=dataset, num_epochs=1)"
   ]
  },
  {
   "cell_type": "code",
   "execution_count": 7,
   "id": "bda361c1-2340-42e3-b38b-f48550b2fae5",
   "metadata": {},
   "outputs": [
    {
     "name": "stderr",
     "output_type": "stream",
     "text": [
      "/Users/jiwidi/projects/github/recsys/recsys/models/retrieval/deep_retriever.py:162: UserWarning: Creating a tensor from a list of numpy.ndarrays is extremely slow. Please consider converting the list to a single numpy.ndarray with numpy.array() before converting to a tensor. (Triggered internally at  /Users/runner/work/pytorch/pytorch/pytorch/torch/csrc/utils/tensor_new.cpp:204.)\n",
      "  items_features = torch.tensor(items_features)\n"
     ]
    }
   ],
   "source": [
    "item_alias, item_representations = retriever.generate_item_representations(dataset)\n",
    "user_alis, user_representations = retriever.generate_user_representations(dataset)"
   ]
  },
  {
   "cell_type": "code",
   "execution_count": 8,
   "id": "0f2d4c30-2bd4-41d6-8fa0-a1b45ab75755",
   "metadata": {},
   "outputs": [
    {
     "data": {
      "text/plain": [
       "tensor([1779, 2068,  249, 3349,   67, 2265, 2091,  323, 1588, 2170, 2782, 2187,\n",
       "         898, 1720])"
      ]
     },
     "execution_count": 8,
     "metadata": {},
     "output_type": "execute_result"
    }
   ],
   "source": [
    "retrieve_nearest_neighbors(candidates=item_representations, query=user_representations[1]) # WORKJS HEHEHEHE WII"
   ]
  },
  {
   "cell_type": "markdown",
   "id": "6ce1d251-b986-45b4-b8f0-5f0416127cad",
   "metadata": {},
   "source": [
    "# Scoring step"
   ]
  },
  {
   "cell_type": "code",
   "execution_count": 9,
   "id": "d6609620-ce0d-4b6c-a078-5731d88805bd",
   "metadata": {},
   "outputs": [],
   "source": [
    "scorer = NCF(dataset.data_schema)"
   ]
  },
  {
   "cell_type": "code",
   "execution_count": 10,
   "id": "3f5090fe-581e-4dba-8920-f0e80ade3e05",
   "metadata": {},
   "outputs": [
    {
     "name": "stderr",
     "output_type": "stream",
     "text": [
      "Epoch: 0/1, Loss: 0.43: 100%|█████████████████████| 1/1 [00:13<00:00, 13.92s/it]\n"
     ]
    }
   ],
   "source": [
    "scorer.fit(dataset=dataset, num_epochs=1)"
   ]
  },
  {
   "cell_type": "code",
   "execution_count": null,
   "id": "7e0539e6-f6ab-41df-8d99-6161ba7de0fb",
   "metadata": {},
   "outputs": [],
   "source": []
  }
 ],
 "metadata": {
  "kernelspec": {
   "display_name": "torchrecsys",
   "language": "python",
   "name": "torchrecsys"
  },
  "language_info": {
   "codemirror_mode": {
    "name": "ipython",
    "version": 3
   },
   "file_extension": ".py",
   "mimetype": "text/x-python",
   "name": "python",
   "nbconvert_exporter": "python",
   "pygments_lexer": "ipython3",
   "version": "3.9.13"
  }
 },
 "nbformat": 4,
 "nbformat_minor": 5
}
