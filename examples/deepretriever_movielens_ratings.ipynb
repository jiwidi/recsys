{
 "cells": [
  {
   "cell_type": "code",
   "execution_count": 1,
   "id": "639958d0-d78d-4aa4-8604-309c85a5c4f5",
   "metadata": {},
   "outputs": [
    {
     "name": "stderr",
     "output_type": "stream",
     "text": [
      "/opt/homebrew/Caskroom/miniforge/base/envs/recsys/lib/python3.9/site-packages/tqdm/auto.py:22: TqdmWarning: IProgress not found. Please update jupyter and ipywidgets. See https://ipywidgets.readthedocs.io/en/stable/user_install.html\n",
      "  from .autonotebook import tqdm as notebook_tqdm\n"
     ]
    }
   ],
   "source": [
    "from recsys.external_datasets import Movielens_1M\n",
    "from recsys.datasets import InteractionsDataset\n",
    "from pytorch_lightning import Trainer\n",
    "from recsys.models.scoring import NCF\n",
    "import pandas as pd\n",
    "import torch\n",
    "import numpy as np"
   ]
  },
  {
   "cell_type": "markdown",
   "id": "1277c513-35fa-405b-90e6-f43d01c307ed",
   "metadata": {},
   "source": [
    "# Data processing"
   ]
  },
  {
   "cell_type": "code",
   "execution_count": 2,
   "id": "fb6a19ac-8381-470c-9ec5-eeac07ce6ca6",
   "metadata": {},
   "outputs": [],
   "source": [
    "data = Movielens_1M()\n",
    "ratings, users, movies = data.load()"
   ]
  },
  {
   "cell_type": "code",
   "execution_count": 3,
   "id": "5b21b8c9-2736-4698-8db1-32d18e383861",
   "metadata": {},
   "outputs": [],
   "source": [
    "#Preprocess users\n",
    "users['gender'], uniques = pd.factorize(users['gender'])\n",
    "users['occupation'], uniques = pd.factorize(users['occupation'])\n",
    "users['zip'], uniques = pd.factorize(users['zip'])\n",
    "##Set category dtype\n",
    "users['user_id'] = users.user_id.astype('category')\n",
    "users['gender'] = users.gender.astype('category')\n",
    "users['occupation'] = users.occupation.astype('category')\n",
    "users['zip'] = users.zip.astype('category')\n",
    "\n",
    "#Preprocess movies, \n",
    "##categories to index\n",
    "movies['title'], uniques = pd.factorize(movies['title'])\n",
    "movies['genres'], uniques = pd.factorize(movies['genres'])\n",
    "##Set category dtype\n",
    "movies['movie_id'] = movies.movie_id.astype('category')\n",
    "movies['title'] = movies.title.astype('category')\n",
    "movies['genres'] = movies.genres.astype('category')\n",
    "\n",
    "#Make all ratings an implicit interaction\n",
    "ratings[\"rating\"] = ratings[\"rating\"].apply(lambda x: 1 if x>=3 else 0)"
   ]
  },
  {
   "cell_type": "code",
   "execution_count": 4,
   "id": "097826dc-77d3-4f82-80ca-44169cc68d5f",
   "metadata": {},
   "outputs": [],
   "source": [
    "dataset = InteractionsDataset(ratings, users, movies, item_id=\"movie_id\", interaction_id=\"rating\", sample_negatives=3)"
   ]
  },
  {
   "cell_type": "markdown",
   "id": "6ce1d251-b986-45b4-b8f0-5f0416127cad",
   "metadata": {},
   "source": [
    "# Scoring step"
   ]
  },
  {
   "cell_type": "markdown",
   "id": "bf22c265-a984-4bab-8095-dfd5ce2d2b18",
   "metadata": {},
   "source": [
    "### Train"
   ]
  },
  {
   "cell_type": "code",
   "execution_count": 5,
   "id": "d6609620-ce0d-4b6c-a078-5731d88805bd",
   "metadata": {},
   "outputs": [],
   "source": [
    "scorer = NCF(dataset.data_schema)"
   ]
  },
  {
   "cell_type": "code",
   "execution_count": 6,
   "id": "3f5090fe-581e-4dba-8920-f0e80ade3e05",
   "metadata": {},
   "outputs": [
    {
     "name": "stderr",
     "output_type": "stream",
     "text": [
      "Epoch: 0/1, Loss: 0.45: 100%|█████████████████████| 1/1 [00:24<00:00, 24.78s/it]\n"
     ]
    }
   ],
   "source": [
    "scorer.fit(dataset=dataset, num_epochs=1)"
   ]
  },
  {
   "cell_type": "code",
   "execution_count": 7,
   "id": "1e479e4d-5839-4a34-bda8-d11c65718578",
   "metadata": {},
   "outputs": [],
   "source": [
    "test_users =  torch.tensor(users.head().values)\n",
    "test_items = torch.tensor(movies.head().values)\n",
    "\n",
    "test_users = scorer.encode_user(test_users)\n",
    "test_items = scorer.encode_item(test_items)"
   ]
  },
  {
   "cell_type": "code",
   "execution_count": 8,
   "id": "df5c32e2-5756-4f04-8bf0-cf2cdd6b544f",
   "metadata": {},
   "outputs": [
    {
     "data": {
      "text/plain": [
       "tensor([ 1.4168, -0.4882, -1.3726, -1.5232, -1.0343],\n",
       "       grad_fn=<SqueezeBackward0>)"
      ]
     },
     "execution_count": 8,
     "metadata": {},
     "output_type": "execute_result"
    }
   ],
   "source": [
    "# Score individual combinations of vectors\n",
    "scorer.score(test_users, test_items)"
   ]
  },
  {
   "cell_type": "code",
   "execution_count": 9,
   "id": "75e32986-ae14-4fb3-8fb9-617c307f069f",
   "metadata": {},
   "outputs": [
    {
     "data": {
      "text/plain": [
       "tensor([[ 1.4168, -0.4253, -0.9619, -1.5268, -0.7329],\n",
       "        [ 1.0060, -0.4882, -1.1246, -1.3082, -1.0096],\n",
       "        [ 0.8785, -0.5913, -1.3726, -1.5357, -1.0929],\n",
       "        [ 0.9753, -0.5774, -1.3251, -1.5232, -1.0801],\n",
       "        [ 0.8261, -0.6391, -1.2776, -1.4907, -1.0343]],\n",
       "       grad_fn=<StackBackward0>)"
      ]
     },
     "execution_count": 9,
     "metadata": {},
     "output_type": "execute_result"
    }
   ],
   "source": [
    "# Score all item vectors for all users\n",
    "scorer.batch_score(test_users, test_items)"
   ]
  },
  {
   "cell_type": "markdown",
   "id": "f2fc1f9d-fe3c-4121-ba3a-8f43156cdb05",
   "metadata": {},
   "source": [
    "### Metrics"
   ]
  },
  {
   "cell_type": "code",
   "execution_count": null,
   "id": "04544894-88c1-40dc-a53e-1c0fdaed640f",
   "metadata": {},
   "outputs": [],
   "source": []
  }
 ],
 "metadata": {
  "kernelspec": {
   "display_name": "recsys",
   "language": "python",
   "name": "recsys"
  },
  "language_info": {
   "codemirror_mode": {
    "name": "ipython",
    "version": 3
   },
   "file_extension": ".py",
   "mimetype": "text/x-python",
   "name": "python",
   "nbconvert_exporter": "python",
   "pygments_lexer": "ipython3",
   "version": "3.9.15"
  }
 },
 "nbformat": 4,
 "nbformat_minor": 5
}
