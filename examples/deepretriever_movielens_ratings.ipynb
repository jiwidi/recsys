{
    "cells": [{
            "cell_type": "code",
            "execution_count": 1,
            "id": "639958d0-d78d-4aa4-8604-309c85a5c4f5",
            "metadata": {},
            "outputs": [],
            "source": [
                "from recsys.models.retrieval import DeepRetriever\n",
                "from recsys.external_datasets import Movielens_1M\n",
                "from recsys.datasets import InteractionsDataset\n",
                "from pytorch_lightning import Trainer\n",
                "from recsys.models.scoring import NCF\n",
                "import pandas as pd\n",
                "import torch\n",
                "import numpy as np\n",
                "from recsys.layers import retrieve_nearest_neighbors"
            ]
        },
        {
            "cell_type": "code",
            "execution_count": 2,
            "id": "fb6a19ac-8381-470c-9ec5-eeac07ce6ca6",
            "metadata": {},
            "outputs": [],
            "source": [
                "data = Movielens_1M()\n",
                "ratings, users, movies = data.load()"
            ]
        },
        {
            "cell_type": "markdown",
            "id": "1277c513-35fa-405b-90e6-f43d01c307ed",
            "metadata": {},
            "source": [
                "# Data processing"
            ]
        },
        {
            "cell_type": "code",
            "execution_count": 3,
            "id": "5b21b8c9-2736-4698-8db1-32d18e383861",
            "metadata": {},
            "outputs": [],
            "source": [
                "#Preprocess users\n",
                "users['gender'], uniques = pd.factorize(users['gender'])\n",
                "users['occupation'], uniques = pd.factorize(users['occupation'])\n",
                "users['zip'], uniques = pd.factorize(users['zip'])\n",
                "##Set category dtype\n",
                "users['gender'] = users.gender.astype('category')\n",
                "users['occupation'] = users.occupation.astype('category')\n",
                "users['zip'] = users.zip.astype('category')\n",
                "\n",
                "#Preprocess movies, \n",
                "##categories to index\n",
                "movies['title'], uniques = pd.factorize(movies['title'])\n",
                "movies['genres'], uniques = pd.factorize(movies['genres'])\n",
                "##Set category dtype\n",
                "movies['title'] = movies.title.astype('category')\n",
                "movies['genres'] = movies.genres.astype('category')\n",
                "\n",
                "#Make all ratings an implicit interaction\n",
                "ratings[\"rating\"] = ratings[\"rating\"].apply(lambda x: 1 if x>=3 else 0)"
            ]
        },
        {
            "cell_type": "code",
            "execution_count": 4,
            "id": "097826dc-77d3-4f82-80ca-44169cc68d5f",
            "metadata": {},
            "outputs": [],
            "source": [
                "dataset = InteractionsDataset(ratings, users, movies, item_id=\"movie_id\", interaction_id=\"rating\", sample_negatives=3)"
            ]
        },
        {
            "cell_type": "markdown",
            "id": "7a840fcd-4cd5-40bf-9754-fb8425b60af6",
            "metadata": {},
            "source": [
                "# Retrieval Step"
            ]
        },
        {
            "cell_type": "code",
            "execution_count": 5,
            "id": "8a19d4ee-2eb1-4a6c-ae6f-2bf49fd1e8c3",
            "metadata": {},
            "outputs": [],
            "source": [
                "retriever = DeepRetriever(dataset.data_schema)"
            ]
        },
        {
            "cell_type": "code",
            "execution_count": 6,
            "id": "b466f913-d7b7-46ad-a6df-fb70e14c9c78",
            "metadata": {},
            "outputs": [{
                "name": "stderr",
                "output_type": "stream",
                "text": [
                    "Epoch: 0/1, Loss: 24.83: 100%|████████████████████████████████████████████████████████████████████████████████████████████████████████████████████████████████████████████████████████████████████████████████████████████| 1/1 [00:34<00:00, 34.19s/it]\n"
                ]
            }],
            "source": [
                "retriever.fit(dataset=dataset, num_epochs=1)"
            ]
        },
        {
            "cell_type": "code",
            "execution_count": 7,
            "id": "bda361c1-2340-42e3-b38b-f48550b2fae5",
            "metadata": {},
            "outputs": [{
                "name": "stderr",
                "output_type": "stream",
                "text": [
                    "/Users/jiwidi/projects/github/recsys/recsys/models/retrieval/deep_retriever.py:159: UserWarning: Creating a tensor from a list of numpy.ndarrays is extremely slow. Please consider converting the list to a single numpy.ndarray with numpy.array() before converting to a tensor. (Triggered internally at /Users/runner/work/pytorch/pytorch/pytorch/torch/csrc/utils/tensor_new.cpp:233.)\n",
                    "  items_features = torch.tensor(items_features)\n"
                ]
            }],
            "source": [
                "item_alias, item_representations = retriever.generate_item_representations(dataset)\n",
                "user_alias, user_representations = retriever.generate_user_representations(dataset)"
            ]
        },
        {
            "cell_type": "code",
            "execution_count": 8,
            "id": "0f2d4c30-2bd4-41d6-8fa0-a1b45ab75755",
            "metadata": {},
            "outputs": [{
                "data": {
                    "text/plain": [
                        "tensor([  46, 3244, 3650, 1602, 3273, 3035, 3612, 1432, 1289, 1496,  376, 2983,\n",
                        "         805, 3714])"
                    ]
                },
                "execution_count": 8,
                "metadata": {},
                "output_type": "execute_result"
            }],
            "source": [
                "nearest_neighbors_idx = retrieve_nearest_neighbors(candidates=item_representations, query=user_representations[0]).tolist()\n",
                "retrieved_items = item_alias[nearest_neighbors_idx]\n",
                "retrieved_items"
            ]
        },
        {
            "cell_type": "markdown",
            "id": "6ce1d251-b986-45b4-b8f0-5f0416127cad",
            "metadata": {},
            "source": [
                "# Scoring step"
            ]
        },
        {
            "cell_type": "code",
            "execution_count": 9,
            "id": "d6609620-ce0d-4b6c-a078-5731d88805bd",
            "metadata": {},
            "outputs": [],
            "source": [
                "scorer = NCF(dataset.data_schema)"
            ]
        },
        {
            "cell_type": "code",
            "execution_count": 10,
            "id": "3f5090fe-581e-4dba-8920-f0e80ade3e05",
            "metadata": {},
            "outputs": [{
                "name": "stderr",
                "output_type": "stream",
                "text": [
                    "Epoch: 0/1, Loss: 0.38: 100%|█████████████████████████████████████████████████████████████████████████████████████████████████████████████████████████████████████████████████████████████████████████████████████████████| 1/1 [00:29<00:00, 29.72s/it]\n"
                ]
            }],
            "source": [
                "scorer.fit(dataset=dataset, num_epochs=1)"
            ]
        },
        {
            "cell_type": "code",
            "execution_count": 11,
            "id": "df5c32e2-5756-4f04-8bf0-cf2cdd6b544f",
            "metadata": {},
            "outputs": [{
                "data": {
                    "text/plain": [
                        "tensor([[-1.0200],\n",
                        "        [-0.7300],\n",
                        "        [-4.9884],\n",
                        "        [-3.0428],\n",
                        "        [-0.4006],\n",
                        "        [ 0.0354],\n",
                        "        [-2.2178],\n",
                        "        [-1.5980],\n",
                        "        [-0.5185],\n",
                        "        [-2.1092]], grad_fn=<AddmmBackward0>)"
                    ]
                },
                "execution_count": 11,
                "metadata": {},
                "output_type": "execute_result"
            }],
            "source": [
                "user = user_alias[:10].tolist()\n",
                "items = retrieved_items[:10].tolist()\n",
                "\n",
                "user_features = dataset.get_user_features(user)\n",
                "item_features = dataset.get_item_features(items)\n",
                "\n",
                "pairs = torch.tensor([user, items]).T\n",
                "user_features = torch.tensor(user_features)\n",
                "items_features = torch.tensor(item_features)\n",
                "\n",
                "scorer.predict(pairs, user_features, items_features)"
            ]
        },
        {
            "cell_type": "code",
            "execution_count": 12,
            "id": "e345406b-f096-4f49-a8ff-fc7a475dcb00",
            "metadata": {},
            "outputs": [],
            "source": [
                "\n",
                "\n",
                "import numpy as np\n",
                "\n",
                "a = np.array([1,2,3,np.nan, 5])\n",
                "b = np.array([1,2,3,np.nan, 5, np.nan])"
            ]
        },
        {
            "cell_type": "code",
            "execution_count": 14,
            "id": "97369756-6c0c-405b-b630-6e77bd994b17",
            "metadata": {},
            "outputs": [{
                "data": {
                    "text/plain": [
                        "{nan, 1.0, 2.0, 3.0, nan, 5.0}"
                    ]
                },
                "execution_count": 14,
                "metadata": {},
                "output_type": "execute_result"
            }],
            "source": [
                "set(b)"
            ]
        },
        {
            "cell_type": "code",
            "execution_count": 15,
            "id": "549f2b86-f7cd-47cb-b3f2-e408f67e2d85",
            "metadata": {},
            "outputs": [{
                "data": {
                    "text/plain": [
                        "array([1., 2., 3., 5.])"
                    ]
                },
                "execution_count": 15,
                "metadata": {},
                "output_type": "execute_result"
            }],
            "source": [
                "b[~np.isnan(b)]"
            ]
        },
        {
            "cell_type": "code",
            "execution_count": 16,
            "id": "5a9b5ddf-15ec-4f17-bbdd-1a8b9fc2ac5b",
            "metadata": {},
            "outputs": [{
                "ename": "TypeError",
                "evalue": "int() argument must be a string, a bytes-like object or a number, not 'NoneType'",
                "output_type": "error",
                "traceback": [
                    "\u001b[0;31m---------------------------------------------------------------------------\u001b[0m",
                    "\u001b[0;31mTypeError\u001b[0m                                 Traceback (most recent call last)",
                    "Input \u001b[0;32mIn [16]\u001b[0m, in \u001b[0;36m<cell line: 2>\u001b[0;34m()\u001b[0m\n\u001b[1;32m      1\u001b[0m d \u001b[38;5;241m=\u001b[39m {\u001b[38;5;241m1\u001b[39m:\u001b[38;5;241m1\u001b[39m, \u001b[38;5;241m2\u001b[39m:\u001b[38;5;241m2\u001b[39m}\n\u001b[0;32m----> 2\u001b[0m \u001b[43mnp\u001b[49m\u001b[38;5;241;43m.\u001b[39;49m\u001b[43mvectorize\u001b[49m\u001b[43m(\u001b[49m\u001b[43md\u001b[49m\u001b[38;5;241;43m.\u001b[39;49m\u001b[43mget\u001b[49m\u001b[43m)\u001b[49m\u001b[43m(\u001b[49m\u001b[43ma\u001b[49m\u001b[43m)\u001b[49m\n",
                    "File \u001b[0;32m/opt/homebrew/Caskroom/miniforge/base/envs/recsys/lib/python3.9/site-packages/numpy/lib/function_base.py:2328\u001b[0m, in \u001b[0;36mvectorize.__call__\u001b[0;34m(self, *args, **kwargs)\u001b[0m\n\u001b[1;32m   2325\u001b[0m     vargs \u001b[38;5;241m=\u001b[39m [args[_i] \u001b[38;5;28;01mfor\u001b[39;00m _i \u001b[38;5;129;01min\u001b[39;00m inds]\n\u001b[1;32m   2326\u001b[0m     vargs\u001b[38;5;241m.\u001b[39mextend([kwargs[_n] \u001b[38;5;28;01mfor\u001b[39;00m _n \u001b[38;5;129;01min\u001b[39;00m names])\n\u001b[0;32m-> 2328\u001b[0m \u001b[38;5;28;01mreturn\u001b[39;00m \u001b[38;5;28;43mself\u001b[39;49m\u001b[38;5;241;43m.\u001b[39;49m\u001b[43m_vectorize_call\u001b[49m\u001b[43m(\u001b[49m\u001b[43mfunc\u001b[49m\u001b[38;5;241;43m=\u001b[39;49m\u001b[43mfunc\u001b[49m\u001b[43m,\u001b[49m\u001b[43m \u001b[49m\u001b[43margs\u001b[49m\u001b[38;5;241;43m=\u001b[39;49m\u001b[43mvargs\u001b[49m\u001b[43m)\u001b[49m\n",
                    "File \u001b[0;32m/opt/homebrew/Caskroom/miniforge/base/envs/recsys/lib/python3.9/site-packages/numpy/lib/function_base.py:2414\u001b[0m, in \u001b[0;36mvectorize._vectorize_call\u001b[0;34m(self, func, args)\u001b[0m\n\u001b[1;32m   2411\u001b[0m outputs \u001b[38;5;241m=\u001b[39m ufunc(\u001b[38;5;241m*\u001b[39minputs)\n\u001b[1;32m   2413\u001b[0m \u001b[38;5;28;01mif\u001b[39;00m ufunc\u001b[38;5;241m.\u001b[39mnout \u001b[38;5;241m==\u001b[39m \u001b[38;5;241m1\u001b[39m:\n\u001b[0;32m-> 2414\u001b[0m     res \u001b[38;5;241m=\u001b[39m \u001b[43masanyarray\u001b[49m\u001b[43m(\u001b[49m\u001b[43moutputs\u001b[49m\u001b[43m,\u001b[49m\u001b[43m \u001b[49m\u001b[43mdtype\u001b[49m\u001b[38;5;241;43m=\u001b[39;49m\u001b[43motypes\u001b[49m\u001b[43m[\u001b[49m\u001b[38;5;241;43m0\u001b[39;49m\u001b[43m]\u001b[49m\u001b[43m)\u001b[49m\n\u001b[1;32m   2415\u001b[0m \u001b[38;5;28;01melse\u001b[39;00m:\n\u001b[1;32m   2416\u001b[0m     res \u001b[38;5;241m=\u001b[39m \u001b[38;5;28mtuple\u001b[39m([asanyarray(x, dtype\u001b[38;5;241m=\u001b[39mt)\n\u001b[1;32m   2417\u001b[0m                  \u001b[38;5;28;01mfor\u001b[39;00m x, t \u001b[38;5;129;01min\u001b[39;00m \u001b[38;5;28mzip\u001b[39m(outputs, otypes)])\n",
                    "\u001b[0;31mTypeError\u001b[0m: int() argument must be a string, a bytes-like object or a number, not 'NoneType'"
                ]
            }],
            "source": [
                "d = {1:1, 2:2}\n",
                "np.vectorize(d.get)(a)"
            ]
        },
        {
            "cell_type": "code",
            "execution_count": 17,
            "id": "d887442f-2ff3-4406-a8c6-d4761ce06391",
            "metadata": {},
            "outputs": [{
                "ename": "TypeError",
                "evalue": "set expected at most 1 argument, got 2",
                "output_type": "error",
                "traceback": [
                    "\u001b[0;31m---------------------------------------------------------------------------\u001b[0m",
                    "\u001b[0;31mTypeError\u001b[0m                                 Traceback (most recent call last)",
                    "Input \u001b[0;32mIn [17]\u001b[0m, in \u001b[0;36m<cell line: 1>\u001b[0;34m()\u001b[0m\n\u001b[0;32m----> 1\u001b[0m \u001b[38;5;28;43mset\u001b[39;49m\u001b[43m(\u001b[49m\u001b[43m[\u001b[49m\u001b[38;5;241;43m1\u001b[39;49m\u001b[43m,\u001b[49m\u001b[38;5;241;43m2\u001b[39;49m\u001b[43m]\u001b[49m\u001b[43m,\u001b[49m\u001b[43m[\u001b[49m\u001b[38;5;241;43m3\u001b[39;49m\u001b[43m,\u001b[49m\u001b[38;5;241;43m4\u001b[39;49m\u001b[43m]\u001b[49m\u001b[43m)\u001b[49m\n",
                    "\u001b[0;31mTypeError\u001b[0m: set expected at most 1 argument, got 2"
                ]
            }],
            "source": [
                "# filter out nans "
            ]
        },
        {
            "cell_type": "code",
            "execution_count": null,
            "id": "ae0828d9-d163-460e-bbda-052f65d0293b",
            "metadata": {},
            "outputs": [],
            "source": []
        }
    ],
    "metadata": {
        "kernelspec": {
            "display_name": "recsys",
            "language": "python",
            "name": "recsys"
        },
        "language_info": {
            "codemirror_mode": {
                "name": "ipython",
                "version": 3
            },
            "file_extension": ".py",
            "mimetype": "text/x-python",
            "name": "python",
            "nbconvert_exporter": "python",
            "pygments_lexer": "ipython3",
            "version": "3.9.13"
        }
    },
    "nbformat": 4,
    "nbformat_minor": 5
}
