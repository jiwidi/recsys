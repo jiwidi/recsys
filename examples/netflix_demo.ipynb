{
 "cells": [
  {
   "cell_type": "code",
   "execution_count": 1,
   "id": "7290b9ec-2c0b-449e-b686-669ba0675121",
   "metadata": {},
   "outputs": [],
   "source": [
    "from torchrecsys.external_datasets import Netflix\n",
    "from torchrecsys.datasets import NetflixTest\n",
    "from torchrecsys.models import Bert4Rec\n",
    "from pytorch_lightning import Trainer\n",
    "import pandas as pd\n",
    "import torch\n",
    "from torch.utils.data import DataLoader"
   ]
  },
  {
   "cell_type": "code",
   "execution_count": 2,
   "id": "ca1bb7e0-915e-4ba3-a138-afea5dd9ae88",
   "metadata": {},
   "outputs": [],
   "source": [
    "ratings, users, movies = Netflix(kaggle_username=\"\", kaggle_api=\"\").load()"
   ]
  },
  {
   "cell_type": "code",
   "execution_count": 3,
   "id": "4a6e10b2-5078-4da5-98e2-619c56e4957f",
   "metadata": {},
   "outputs": [],
   "source": [
    "movies['title'], uniques = pd.factorize(movies['title'])\n",
    "movies['title'] = movies.title.astype('category')\n",
    "\n",
    "max_item_id = movies['movie_id'].max()"
   ]
  },
  {
   "cell_type": "code",
   "execution_count": 4,
   "id": "60e92ec6-15a6-416d-8fce-453752dc4705",
   "metadata": {},
   "outputs": [],
   "source": [
    "sorted_sequences = ratings.sort_values(by=['date']).groupby('user_id')['movie_id'].apply(list).to_frame()"
   ]
  },
  {
   "cell_type": "code",
   "execution_count": 5,
   "id": "221c7b65",
   "metadata": {},
   "outputs": [],
   "source": [
    "dataset = NetflixTest(sorted_sequences, movies, sequence_id=\"movie_id\", item_id=\"movie_id\", max_item_id=max_item_id, random_seq_start=True)\n"
   ]
  },
  {
   "cell_type": "code",
   "execution_count": 6,
   "id": "1cb1265f",
   "metadata": {},
   "outputs": [
    {
     "name": "stderr",
     "output_type": "stream",
     "text": [
      "/home/pablo/Downloads/recommenders/torchrecsys/torchrecsys/datasets/datasets.py:323: UserWarning: Creating a tensor from a list of numpy.ndarrays is extremely slow. Please consider converting the list to a single numpy.ndarray with numpy.array() before converting to a tensor. (Triggered internally at  ../torch/csrc/utils/tensor_new.cpp:210.)\n",
      "  torch.LongTensor(features),\n"
     ]
    },
    {
     "data": {
      "text/plain": [
       "(tensor([1220, 3938, 4472, 1962, 4356, 1096, 1180, 2660, 2372, 2865, 3638, 2152,\n",
       "         1145, 2874, 4227, 1399, 1756,  580, 1659, 1832, 3894, 3817, 3756, 3333,\n",
       "         1798, 2913, 2981, 1865,  299, 4432, 2342, 3151, 2200, 3966, 2252, 3165,\n",
       "          361, 3538, 1476, 2942, 1642, 3509, 4353, 3269, 3962,  706,  528, 1144,\n",
       "         1238, 3226, 3893, 3730, 3689, 3864,  886, 1307, 4043,  468, 1843,  241,\n",
       "         2843, 4406, 2857, 2726, 3198, 4100, 3153, 1571, 2965, 1709,  825, 3265,\n",
       "         3434, 3385, 2340, 1918,  501, 1901, 3320, 1939]),\n",
       " 2953,\n",
       " tensor([2857, 2726, 3198, 4100, 3153, 1571, 2965, 1709,  825, 3265, 3434, 3385,\n",
       "         2340]),\n",
       " 1918)"
      ]
     },
     "execution_count": 6,
     "metadata": {},
     "output_type": "execute_result"
    }
   ],
   "source": [
    "temp = dataset.__getitem__(0)\n",
    "temp2 = dataset.__getitem__(0)\n",
    "temp[0], temp[1], temp2[0], temp2[1]"
   ]
  },
  {
   "cell_type": "code",
   "execution_count": null,
   "id": "dc577d7b",
   "metadata": {},
   "outputs": [],
   "source": []
  }
 ],
 "metadata": {
  "kernelspec": {
   "display_name": "Python 3.10.0 ('eye_tracker')",
   "language": "python",
   "name": "python3"
  },
  "language_info": {
   "codemirror_mode": {
    "name": "ipython",
    "version": 3
   },
   "file_extension": ".py",
   "mimetype": "text/x-python",
   "name": "python",
   "nbconvert_exporter": "python",
   "pygments_lexer": "ipython3",
   "version": "3.10.0"
  },
  "vscode": {
   "interpreter": {
    "hash": "1dae2f5c307530b492e3e685d0649f6dfc47f05e5ca355981ce0c3f5410a247a"
   }
  }
 },
 "nbformat": 4,
 "nbformat_minor": 5
}
