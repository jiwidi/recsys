{
 "cells": [
  {
   "cell_type": "code",
   "execution_count": null,
   "id": "3c31b678-b999-4093-90d9-92cbd6061cba",
   "metadata": {},
   "outputs": [],
   "source": [
    "from torchrecsys.models.retrieval import ALS\n",
    "from torchrecsys.external_datasets import Movielens_1M\n",
    "from torchrecsys.datasets import InteractionsDataset\n",
    "from pytorch_lightning import Trainer\n",
    "import pandas as pd\n",
    "import torch\n",
    "import numpy as np\n",
    "from torch.utils.data import DataLoader"
   ]
  }
 ],
 "metadata": {
  "kernelspec": {
   "display_name": "cuda",
   "language": "python",
   "name": "cuda"
  },
  "language_info": {
   "codemirror_mode": {
    "name": "ipython",
    "version": 3
   },
   "file_extension": ".py",
   "mimetype": "text/x-python",
   "name": "python",
   "nbconvert_exporter": "python",
   "pygments_lexer": "ipython3",
   "version": "3.8.12"
  }
 },
 "nbformat": 4,
 "nbformat_minor": 5
}
